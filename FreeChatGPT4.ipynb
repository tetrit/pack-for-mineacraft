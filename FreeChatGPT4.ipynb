{
  "cells": [
    {
      "cell_type": "code",
      "execution_count": 1,
      "metadata": {
        "colab": {
          "base_uri": "https://localhost:8080/"
        },
        "id": "exEBooM5T8WM",
        "outputId": "14dc0b8d-ba99-4986-d4f0-8e035ffa73bb"
      },
      "outputs": [
        {
          "output_type": "stream",
          "name": "stdout",
          "text": [
            "Cloning into 'gpt4free'...\n",
            "remote: Enumerating objects: 12835, done.\u001b[K\n",
            "remote: Counting objects: 100% (157/157), done.\u001b[K\n",
            "remote: Compressing objects: 100% (78/78), done.\u001b[K\n",
            "remote: Total 12835 (delta 79), reused 120 (delta 75), pack-reused 12678\u001b[K\n",
            "Receiving objects: 100% (12835/12835), 155.99 MiB | 22.33 MiB/s, done.\n",
            "Resolving deltas: 100% (3981/3981), done.\n"
          ]
        }
      ],
      "source": [
        "!git clone https://github.com/xtekky/gpt4free.git"
      ]
    },
    {
      "cell_type": "code",
      "source": [
        "!pip install -r gpt4free/requirements.txt"
      ],
      "metadata": {
        "id": "-597Wh2-eGeZ"
      },
      "execution_count": null,
      "outputs": []
    },
    {
      "cell_type": "code",
      "source": [
        "!pip install flask_ngrok\n",
        "!pip install pyngrok==4.1.1"
      ],
      "metadata": {
        "id": "t48zlyAZUJ4G"
      },
      "execution_count": null,
      "outputs": []
    },
    {
      "cell_type": "code",
      "source": [
        "%cd gpt4free\n",
        "!ls\n",
        "from g4f.gui import run_gui; run_gui()"
      ],
      "metadata": {
        "id": "psGyhshvUcA0"
      },
      "execution_count": null,
      "outputs": []
    },
    {
      "cell_type": "code",
      "source": [
        "%cd gpt4free\n",
        "!ls\n",
        "!ngrok authtoken 2WZxijevhLBfZGSUN5MxpaKWowr_2yi1VJuEqXPV7DqXzDum\n",
        "from g4f.gui import run_gui; run_gui()"
      ],
      "metadata": {
        "colab": {
          "base_uri": "https://localhost:8080/"
        },
        "id": "3wfzdiYXUuIF",
        "outputId": "eb256246-309c-4561-b47d-479fd8772982"
      },
      "execution_count": null,
      "outputs": [
        {
          "metadata": {
            "tags": null
          },
          "name": "stdout",
          "output_type": "stream",
          "text": [
            "/content/gpt4free\n",
            "CODE_OF_CONDUCT.md  Dockerfile\tLEGAL_NOTICE.md  requirements.txt\n",
            "CONTRIBUTING.md     etc\t\tLICENSE\t\t SECURITY.md\n",
            "docker-compose.yml  g4f\t\tREADME.md\t setup.py\n",
            "Authtoken saved to configuration file: /root/.ngrok2/ngrok.yml\n",
            "Running on port 80\n",
            " * Serving Flask app 'g4f.gui.server.app'\n",
            " * Debug mode: off\n"
          ]
        },
        {
          "metadata": {
            "tags": null
          },
          "name": "stderr",
          "output_type": "stream",
          "text": [
            "INFO:werkzeug:\u001b[31m\u001b[1mWARNING: This is a development server. Do not use it in a production deployment. Use a production WSGI server instead.\u001b[0m\n",
            " * Running on http://127.0.0.1:5000\n",
            "INFO:werkzeug:\u001b[33mPress CTRL+C to quit\u001b[0m\n"
          ]
        },
        {
          "metadata": {
            "tags": null
          },
          "name": "stdout",
          "output_type": "stream",
          "text": [
            " * Running on http://b5da-35-245-232-177.ngrok-free.app\n",
            " * Traffic stats available on http://127.0.0.1:4040\n"
          ]
        },
        {
          "metadata": {
            "tags": null
          },
          "name": "stderr",
          "output_type": "stream",
          "text": [
            "INFO:werkzeug:127.0.0.1 - - [11/Oct/2023 15:21:26] \"\u001b[32mGET / HTTP/1.1\u001b[0m\" 302 -\n",
            "INFO:werkzeug:127.0.0.1 - - [11/Oct/2023 15:21:26] \"\u001b[32mGET /chat HTTP/1.1\u001b[0m\" 308 -\n",
            "INFO:werkzeug:127.0.0.1 - - [11/Oct/2023 15:21:26] \"GET /chat/ HTTP/1.1\" 200 -\n",
            "INFO:werkzeug:127.0.0.1 - - [11/Oct/2023 15:21:26] \"GET /assets/css/style.css HTTP/1.1\" 200 -\n",
            "INFO:werkzeug:127.0.0.1 - - [11/Oct/2023 15:21:26] \"GET /assets/js/highlight.min.js HTTP/1.1\" 200 -\n",
            "INFO:werkzeug:127.0.0.1 - - [11/Oct/2023 15:21:26] \"GET /assets/js/icons.js HTTP/1.1\" 200 -\n",
            "INFO:werkzeug:127.0.0.1 - - [11/Oct/2023 15:21:26] \"GET /assets/js/highlightjs-copy.min.js HTTP/1.1\" 200 -\n",
            "INFO:werkzeug:127.0.0.1 - - [11/Oct/2023 15:21:27] \"GET /assets/js/chat.v2.js HTTP/1.1\" 200 -\n",
            "INFO:werkzeug:127.0.0.1 - - [11/Oct/2023 15:21:27] \"GET /assets/img/gpt.png HTTP/1.1\" 200 -\n",
            "INFO:werkzeug:127.0.0.1 - - [11/Oct/2023 15:21:27] \"GET /assets/img/favicon-32x32.png HTTP/1.1\" 200 -\n",
            "INFO:werkzeug:127.0.0.1 - - [11/Oct/2023 15:22:39] \"GET /assets/img/user.png HTTP/1.1\" 200 -\n"
          ]
        },
        {
          "metadata": {
            "tags": null
          },
          "name": "stdout",
          "output_type": "stream",
          "text": [
            "{'content': 'can you decrypt this message: \"0;P;t;6;o;1;d;1;z;6;0t;10;0l;20;0o;20;0a;1;0e;3;1t;10;1l;10;1o;40;1a;1;1s;3;1e;3\"', 'role': 'user'}\n",
            "Auto\n",
            "Using RetryProvider provider\n"
          ]
        },
        {
          "metadata": {
            "tags": null
          },
          "name": "stderr",
          "output_type": "stream",
          "text": [
            "INFO:werkzeug:127.0.0.1 - - [11/Oct/2023 15:22:47] \"POST /backend-api/v2/conversation HTTP/1.1\" 200 -\n"
          ]
        },
        {
          "metadata": {
            "tags": null
          },
          "name": "stdout",
          "output_type": "stream",
          "text": [
            "{'content': 'hello', 'role': 'user'}\n",
            "Auto\n",
            "Using Aivvm provider\n"
          ]
        },
        {
          "metadata": {
            "tags": null
          },
          "name": "stderr",
          "output_type": "stream",
          "text": [
            "INFO:werkzeug:127.0.0.1 - - [11/Oct/2023 15:23:11] \"POST /backend-api/v2/conversation HTTP/1.1\" 200 -\n"
          ]
        },
        {
          "metadata": {
            "tags": null
          },
          "name": "stdout",
          "output_type": "stream",
          "text": [
            "{'content': 'hello', 'role': 'user'}\n",
            "FreeGpt\n",
            "Using FreeGpt provider\n"
          ]
        },
        {
          "metadata": {
            "tags": null
          },
          "name": "stderr",
          "output_type": "stream",
          "text": [
            "INFO:werkzeug:127.0.0.1 - - [11/Oct/2023 15:23:27] \"POST /backend-api/v2/conversation HTTP/1.1\" 200 -\n"
          ]
        },
        {
          "metadata": {
            "tags": null
          },
          "name": "stdout",
          "output_type": "stream",
          "text": [
            "{'content': 'Can you decrypt this message: \"0;P;t;6;o;1;d;1;z;6;0t;10;0l;20;0o;20;0a;1;0e;3;1t;10;1l;10;1o;40;1a;1;1s;3;1e;3\"', 'role': 'user'}\n",
            "FreeGpt\n",
            "Using FreeGpt provider\n"
          ]
        },
        {
          "metadata": {
            "tags": null
          },
          "name": "stderr",
          "output_type": "stream",
          "text": [
            "INFO:werkzeug:127.0.0.1 - - [11/Oct/2023 15:24:01] \"POST /backend-api/v2/conversation HTTP/1.1\" 200 -\n"
          ]
        },
        {
          "metadata": {
            "tags": null
          },
          "name": "stdout",
          "output_type": "stream",
          "text": [
            "{'content': 'no, sorry. Have you any idea how encrypt message to this format?', 'role': 'user'}\n",
            "FreeGpt\n",
            "Using FreeGpt provider\n"
          ]
        },
        {
          "metadata": {
            "tags": null
          },
          "name": "stderr",
          "output_type": "stream",
          "text": [
            "INFO:werkzeug:127.0.0.1 - - [11/Oct/2023 15:25:08] \"POST /backend-api/v2/conversation HTTP/1.1\" 200 -\n"
          ]
        },
        {
          "metadata": {
            "tags": null
          },
          "name": "stdout",
          "output_type": "stream",
          "text": [
            "{'content': 'I have googled this message. It is just code crosshair for valorant -_-', 'role': 'user'}\n",
            "FreeGpt\n",
            "Using FreeGpt provider\n"
          ]
        },
        {
          "metadata": {
            "tags": null
          },
          "name": "stderr",
          "output_type": "stream",
          "text": [
            "INFO:werkzeug:127.0.0.1 - - [11/Oct/2023 15:27:33] \"POST /backend-api/v2/conversation HTTP/1.1\" 200 -\n"
          ]
        },
        {
          "metadata": {
            "tags": null
          },
          "name": "stdout",
          "output_type": "stream",
          "text": [
            "{'content': 'yep', 'role': 'user'}\n",
            "FreeGpt\n",
            "Using FreeGpt provider\n"
          ]
        },
        {
          "metadata": {
            "tags": null
          },
          "name": "stderr",
          "output_type": "stream",
          "text": [
            "INFO:werkzeug:127.0.0.1 - - [11/Oct/2023 15:28:18] \"POST /backend-api/v2/conversation HTTP/1.1\" 200 -\n"
          ]
        },
        {
          "metadata": {
            "tags": null
          },
          "name": "stdout",
          "output_type": "stream",
          "text": [
            "{'content': 'can you learn something from people?', 'role': 'user'}\n",
            "FreeGpt\n",
            "Using FreeGpt provider\n"
          ]
        },
        {
          "metadata": {
            "tags": null
          },
          "name": "stderr",
          "output_type": "stream",
          "text": [
            "INFO:werkzeug:127.0.0.1 - - [11/Oct/2023 15:29:48] \"POST /backend-api/v2/conversation HTTP/1.1\" 200 -\n"
          ]
        },
        {
          "metadata": {
            "tags": null
          },
          "name": "stdout",
          "output_type": "stream",
          "text": [
            "{'content': 'Good. so, if other people will send this \"0;P;t;6;o;1;d;1;z;6;0t;10;0l;20;0o;20;0a;1;0e;3;1t;10;1l;10;1o;40;1a;1;1s;3;1e;3\", you will asume that its code for crosshair from valorant, right?', 'role': 'user'}\n",
            "FreeGpt\n",
            "Using FreeGpt provider\n"
          ]
        },
        {
          "metadata": {
            "tags": null
          },
          "name": "stderr",
          "output_type": "stream",
          "text": [
            "INFO:werkzeug:127.0.0.1 - - [11/Oct/2023 15:33:01] \"POST /backend-api/v2/conversation HTTP/1.1\" 200 -\n"
          ]
        },
        {
          "metadata": {
            "tags": null
          },
          "name": "stdout",
          "output_type": "stream",
          "text": [
            "{'content': 'whats mean first three ip octet?', 'role': 'user'}\n",
            "FreeGpt\n",
            "Using FreeGpt provider\n"
          ]
        },
        {
          "metadata": {
            "tags": null
          },
          "name": "stderr",
          "output_type": "stream",
          "text": [
            "INFO:werkzeug:127.0.0.1 - - [11/Oct/2023 16:01:14] \"POST /backend-api/v2/conversation HTTP/1.1\" 200 -\n"
          ]
        },
        {
          "metadata": {
            "tags": null
          },
          "name": "stdout",
          "output_type": "stream",
          "text": [
            "{'content': 'что такое маска подсети?', 'role': 'user'}\n",
            "FreeGpt\n",
            "Using FreeGpt provider\n"
          ]
        },
        {
          "metadata": {
            "tags": null
          },
          "name": "stderr",
          "output_type": "stream",
          "text": [
            "INFO:werkzeug:127.0.0.1 - - [11/Oct/2023 16:02:07] \"POST /backend-api/v2/conversation HTTP/1.1\" 200 -\n"
          ]
        },
        {
          "metadata": {
            "tags": null
          },
          "name": "stdout",
          "output_type": "stream",
          "text": [
            "{'content': 'могут ли коммутаторы маршрутизировать трафик?', 'role': 'user'}\n",
            "FreeGpt\n",
            "Using FreeGpt provider\n"
          ]
        },
        {
          "metadata": {
            "tags": null
          },
          "name": "stderr",
          "output_type": "stream",
          "text": [
            "INFO:werkzeug:127.0.0.1 - - [11/Oct/2023 16:03:08] \"POST /backend-api/v2/conversation HTTP/1.1\" 200 -\n"
          ]
        },
        {
          "metadata": {
            "tags": null
          },
          "name": "stdout",
          "output_type": "stream",
          "text": [
            "{'content': 'что не могут делать коммутаторы, работающие на сетевом уровне OSI, в отличие от маршрутизатора?', 'role': 'user'}\n",
            "FreeGpt\n",
            "Using FreeGpt provider\n"
          ]
        },
        {
          "metadata": {
            "tags": null
          },
          "name": "stderr",
          "output_type": "stream",
          "text": [
            "INFO:werkzeug:127.0.0.1 - - [11/Oct/2023 16:04:46] \"POST /backend-api/v2/conversation HTTP/1.1\" 200 -\n"
          ]
        },
        {
          "metadata": {
            "tags": null
          },
          "name": "stdout",
          "output_type": "stream",
          "text": [
            "{'content': 'что означает последний ip октет?', 'role': 'user'}\n",
            "FreeGpt\n",
            "Using FreeGpt provider\n"
          ]
        },
        {
          "metadata": {
            "tags": null
          },
          "name": "stderr",
          "output_type": "stream",
          "text": [
            "INFO:werkzeug:127.0.0.1 - - [11/Oct/2023 16:06:45] \"POST /backend-api/v2/conversation HTTP/1.1\" 200 -\n"
          ]
        }
      ]
    }
  ],
  "metadata": {
    "colab": {
      "provenance": [],
      "authorship_tag": "ABX9TyOGepimQnAaU4Xaqg9HIvWc"
    },
    "kernelspec": {
      "display_name": "Python 3",
      "name": "python3"
    },
    "language_info": {
      "name": "python"
    }
  },
  "nbformat": 4,
  "nbformat_minor": 0
}